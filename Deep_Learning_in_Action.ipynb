{
 "cells": [
  {
   "cell_type": "markdown",
   "metadata": {},
   "source": [
    "# Hello, _nbpresent_!"
   ]
  },
  {
   "cell_type": "code",
   "execution_count": null,
   "metadata": {
    "collapsed": true
   },
   "outputs": [],
   "source": [
    "import nbpresent\n",
    "nbpresent.__version__"
   ]
  },
  {
   "cell_type": "markdown",
   "metadata": {
    "nbpresent": {
     "id": "c5161136-7f9f-4a01-b48d-eb18a86d3cb3"
    }
   },
   "source": [
    "## Convolutional Neural Networks"
   ]
  },
  {
   "cell_type": "markdown",
   "metadata": {},
   "source": [
    "<figure>\n",
    "    <img src='convnet.jpeg' alt='missing' />\n",
    "    <figcaption>Source: http://cs231n.github.io/convolutional-networks/</figcaption>\n",
    "</figure>"
   ]
  },
  {
   "cell_type": "markdown",
   "metadata": {},
   "source": [
    "## Why ConvNets?"
   ]
  },
  {
   "cell_type": "markdown",
   "metadata": {},
   "source": [
    "## The Convolution Operation"
   ]
  },
  {
   "cell_type": "markdown",
   "metadata": {},
   "source": [
    "<figure>\n",
    "    <img src='convolution_demo.png' alt='missing' />\n",
    "    <figcaption>Source: http://cs231n.github.io/convolutional-networks/ (Live Demo on website!)</figcaption>\n",
    "</figure>"
   ]
  },
  {
   "cell_type": "markdown",
   "metadata": {},
   "source": [
    "## Convolution - the math"
   ]
  },
  {
   "cell_type": "markdown",
   "metadata": {},
   "source": [
    "Notice that if all neurons in a single depth slice are using the same weight vector, then the forward pass of the CONV layer can in each depth slice be computed as a convolution "
   ]
  },
  {
   "cell_type": "markdown",
   "metadata": {},
   "source": [
    "## Convolution hyperparameters"
   ]
  },
  {
   "cell_type": "markdown",
   "metadata": {},
   "source": [
    "Number of filters K\n",
    ",\n",
    "their spatial extent F\n",
    ",\n",
    "the stride S\n",
    ",\n",
    "the amount of zero padding P\n",
    "."
   ]
  },
  {
   "cell_type": "code",
   "execution_count": null,
   "metadata": {
    "collapsed": true
   },
   "outputs": [],
   "source": []
  }
 ],
 "metadata": {
  "anaconda-cloud": {},
  "kernelspec": {
   "display_name": "Python [conda env:p35]",
   "language": "python",
   "name": "conda-env-p35-py"
  },
  "language_info": {
   "codemirror_mode": {
    "name": "ipython",
    "version": 3
   },
   "file_extension": ".py",
   "mimetype": "text/x-python",
   "name": "python",
   "nbconvert_exporter": "python",
   "pygments_lexer": "ipython3",
   "version": "3.5.2"
  },
  "nbpresent": {
   "slides": {
    "8265f3a6-a294-47f6-bc75-69bafdcf8e5f": {
     "id": "8265f3a6-a294-47f6-bc75-69bafdcf8e5f",
     "prev": "8916f865-3a24-4393-bbca-6ca15f3d0de4",
     "regions": {
      "5487a8aa-a437-4e14-952d-9f4e79de0da9": {
       "attrs": {
        "height": 1,
        "width": 1,
        "x": 0,
        "y": 0
       },
       "content": {
        "cell": "1f3634d5-a141-48bb-a685-6d3c7e003c2b",
        "part": "source"
       },
       "id": "5487a8aa-a437-4e14-952d-9f4e79de0da9"
      }
     }
    },
    "8916f865-3a24-4393-bbca-6ca15f3d0de4": {
     "id": "8916f865-3a24-4393-bbca-6ca15f3d0de4",
     "prev": null,
     "regions": {
      "47c14712-510f-4e1b-8725-0af0ec79ac7e": {
       "attrs": {
        "height": 1,
        "width": 1,
        "x": 0,
        "y": 0
       },
       "id": "47c14712-510f-4e1b-8725-0af0ec79ac7e"
      }
     }
    }
   },
   "themes": {}
  }
 },
 "nbformat": 4,
 "nbformat_minor": 1
}
