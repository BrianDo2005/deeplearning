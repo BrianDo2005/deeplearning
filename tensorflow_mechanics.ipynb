{
 "cells": [
  {
   "cell_type": "markdown",
   "metadata": {},
   "source": [
    "# TensorFlow Mechanics\n",
    "\n",
    "after: https://www.tensorflow.org/versions/r0.12/get_started/index.html\n",
    "\n",
    "_Just to get a feeling for the basic code layout_ ..."
   ]
  },
  {
   "cell_type": "code",
   "execution_count": 6,
   "metadata": {
    "collapsed": false
   },
   "outputs": [],
   "source": [
    "import tensorflow as tf\n",
    "import numpy as np"
   ]
  },
  {
   "cell_type": "code",
   "execution_count": 7,
   "metadata": {
    "collapsed": false
   },
   "outputs": [
    {
     "data": {
      "text/plain": [
       "(array([ 0.80927491,  0.74668413,  0.95749909,  0.5883714 ,  0.87949979,\n",
       "         0.30363309,  0.71447444,  0.6844061 ,  0.68370211,  0.58191818,\n",
       "         0.66361594,  0.95806175,  0.3807382 ,  0.53319705,  0.4570218 ,\n",
       "         0.53770262,  0.78848374,  0.40010649,  0.84735125,  0.00636152,\n",
       "         0.71019125,  0.73262691,  0.78032303,  0.02837455,  0.72626185,\n",
       "         0.3679662 ,  0.06559785,  0.74739486,  0.03451287,  0.71713364,\n",
       "         0.3492789 ,  0.66195977,  0.6196956 ,  0.16149957,  0.6265642 ,\n",
       "         0.81406903,  0.90870816,  0.19339114,  0.01563852,  0.47879645,\n",
       "         0.98176849,  0.62508076,  0.21106575,  0.383499  ,  0.2043923 ,\n",
       "         0.87707102,  0.08044843,  0.16757932,  0.13364007,  0.52966213,\n",
       "         0.6037277 ,  0.77885002,  0.47714254,  0.0982236 ,  0.90911531,\n",
       "         0.36660832,  0.87414515,  0.08161516,  0.65875214,  0.27375534,\n",
       "         0.57364047,  0.16690996,  0.32145914,  0.74107713,  0.11398663,\n",
       "         0.90666974,  0.34543937,  0.80615366,  0.76091737,  0.16750251,\n",
       "         0.72788429,  0.77578771,  0.22668912,  0.55267745,  0.233344  ,\n",
       "         0.01232593,  0.27070099,  0.03568413,  0.17039888,  0.85519737,\n",
       "         0.72962344,  0.20701551,  0.95940024,  0.03314482,  0.79967761,\n",
       "         0.15537386,  0.42689446,  0.2162406 ,  0.06548795,  0.51725286,\n",
       "         0.7753222 ,  0.79810166,  0.08950865,  0.79106212,  0.05689749,\n",
       "         0.83857757,  0.51262736,  0.81638145,  0.62356597,  0.01020844], dtype=float32),\n",
       " array([ 0.3809275 ,  0.37466842,  0.39574993,  0.35883716,  0.38795   ,\n",
       "         0.33036333,  0.37144744,  0.36844063,  0.36837023,  0.35819182,\n",
       "         0.36636162,  0.39580619,  0.33807382,  0.3533197 ,  0.3457022 ,\n",
       "         0.35377029,  0.37884837,  0.34001067,  0.38473514,  0.30063617,\n",
       "         0.37101912,  0.3732627 ,  0.37803233,  0.30283746,  0.37262619,\n",
       "         0.33679664,  0.3065598 ,  0.3747395 ,  0.3034513 ,  0.37171337,\n",
       "         0.33492792,  0.36619598,  0.36196956,  0.31614998,  0.36265644,\n",
       "         0.3814069 ,  0.39087084,  0.31933913,  0.30156386,  0.34787965,\n",
       "         0.39817685,  0.36250809,  0.32110658,  0.33834991,  0.32043925,\n",
       "         0.38770711,  0.30804485,  0.31675795,  0.31336403,  0.35296622,\n",
       "         0.36037278,  0.37788501,  0.34771428,  0.30982238,  0.39091155,\n",
       "         0.33666083,  0.38741452,  0.30816153,  0.36587524,  0.32737553,\n",
       "         0.35736406,  0.31669101,  0.33214593,  0.37410772,  0.31139868,\n",
       "         0.39066699,  0.33454394,  0.38061538,  0.37609175,  0.31675026,\n",
       "         0.37278843,  0.37757879,  0.32266891,  0.35526776,  0.32333443,\n",
       "         0.30123261,  0.32707012,  0.30356842,  0.31703991,  0.38551974,\n",
       "         0.37296236,  0.32070157,  0.39594004,  0.30331451,  0.37996778,\n",
       "         0.31553739,  0.34268945,  0.32162407,  0.3065488 ,  0.35172531,\n",
       "         0.37753224,  0.37981018,  0.30895087,  0.37910622,  0.30568975,\n",
       "         0.38385779,  0.35126275,  0.38163817,  0.3623566 ,  0.30102086], dtype=float32))"
      ]
     },
     "execution_count": 7,
     "metadata": {},
     "output_type": "execute_result"
    }
   ],
   "source": [
    "# Create dataset\n",
    "# Create 100 phony x, y data points in NumPy, y = x * 0.1 + 0.3\n",
    "X = np.random.rand(100).astype(np.float32)\n",
    "y = X * 0.1 + 0.3\n",
    "X,y"
   ]
  },
  {
   "cell_type": "code",
   "execution_count": null,
   "metadata": {
    "collapsed": true
   },
   "outputs": [],
   "source": [
    "# Try to find values for W and b that compute y_data = W * x_data + b\n",
    "# (We know that W should be 0.1 and b 0.3, but TensorFlow will\n",
    "# figure that out for us.)\n",
    "W = tf.Variable(tf.random_uniform([1], -1.0, 1.0))\n",
    "b = tf.Variable(tf.zeros([1]))\n",
    "y = W * x_data + b\n",
    "\n",
    "# Minimize the mean squared errors.\n",
    "loss = tf.reduce_mean(tf.square(y - y_data))\n",
    "optimizer = tf.train.GradientDescentOptimizer(0.5)\n",
    "train = optimizer.minimize(loss)\n",
    "\n",
    "# Before starting, initialize the variables.  We will 'run' this first.\n",
    "init = tf.global_variables_initializer()\n",
    "\n",
    "# Launch the graph.\n",
    "sess = tf.Session()\n",
    "sess.run(init)\n",
    "\n",
    "# Fit the line.\n",
    "for step in range(201):\n",
    "    sess.run(train)\n",
    "    if step % 20 == 0:\n",
    "        print(step, sess.run(W), sess.run(b))\n",
    "\n",
    "# Learns best fit is W: [0.1], b: [0.3]\n"
   ]
  },
  {
   "cell_type": "code",
   "execution_count": null,
   "metadata": {
    "collapsed": true
   },
   "outputs": [],
   "source": []
  },
  {
   "cell_type": "code",
   "execution_count": null,
   "metadata": {
    "collapsed": true
   },
   "outputs": [],
   "source": []
  },
  {
   "cell_type": "code",
   "execution_count": null,
   "metadata": {
    "collapsed": true
   },
   "outputs": [],
   "source": []
  }
 ],
 "metadata": {
  "anaconda-cloud": {},
  "kernelspec": {
   "display_name": "Python [conda env:tensorflow2]",
   "language": "python",
   "name": "conda-env-tensorflow2-py"
  },
  "language_info": {
   "codemirror_mode": {
    "name": "ipython",
    "version": 3
   },
   "file_extension": ".py",
   "mimetype": "text/x-python",
   "name": "python",
   "nbconvert_exporter": "python",
   "pygments_lexer": "ipython3",
   "version": "3.5.2"
  }
 },
 "nbformat": 4,
 "nbformat_minor": 1
}
